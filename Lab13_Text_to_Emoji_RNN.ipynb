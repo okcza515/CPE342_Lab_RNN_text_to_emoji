{
  "cells": [
    {
      "cell_type": "markdown",
      "metadata": {
        "id": "view-in-github",
        "colab_type": "text"
      },
      "source": [
        "<a href=\"https://colab.research.google.com/github/okcza515/CPE342_Lab_RNN_text_to_emoji/blob/main/Lab13_Text_to_Emoji_RNN.ipynb\" target=\"_parent\"><img src=\"https://colab.research.google.com/assets/colab-badge.svg\" alt=\"Open In Colab\"/></a>"
      ]
    },
    {
      "cell_type": "markdown",
      "metadata": {
        "id": "2OKE6CXwzBNs"
      },
      "source": [
        "# Lab 13: Training Deep Recurrent Neural Network\n",
        "- Nutchapong Pramualsap 64070501092\n",
        "\n",
        "## Lab Instruction - Emojify\n",
        "\n",
        "In this lab, you will learn how to train a deep recurrent neural network with Keras and Tensorflow. Your task is to perform sentiment analysis and predict the emoji that best represents the emotion in each sentence.\n",
        "\n",
        "\n",
        "Read more in\n",
        " https://www.kdnuggets.com/2020/03/tensorflow-keras-tokenization-text-data-prep.html\n",
        "\n",
        "or\n",
        "https://machinelearningmastery.com/use-word-embedding-layers-deep-learning-keras/"
      ]
    },
    {
      "cell_type": "code",
      "execution_count": null,
      "metadata": {
        "id": "6KLPx-K_BJwr"
      },
      "outputs": [],
      "source": [
        "import sys\n",
        "sys.path.append('/content/drive/MyDrive/CPE342 Machine Learning/Lecture13/Lecture13')"
      ]
    },
    {
      "cell_type": "code",
      "execution_count": null,
      "metadata": {
        "id": "kQr-vJn_BJwr",
        "outputId": "223d7573-8df5-43e2-9b9c-8e371fed66ae",
        "colab": {
          "base_uri": "https://localhost:8080/"
        }
      },
      "outputs": [
        {
          "output_type": "stream",
          "name": "stdout",
          "text": [
            "Num GPUs: 1\n"
          ]
        }
      ],
      "source": [
        "import tensorflow as tf\n",
        "physical_devices = tf.config.list_physical_devices('GPU')\n",
        "print(\"Num GPUs:\", len(physical_devices))"
      ]
    },
    {
      "cell_type": "code",
      "execution_count": null,
      "metadata": {
        "id": "4mVQZdhyBJws"
      },
      "outputs": [],
      "source": [
        "physical_devices = tf.config.list_physical_devices('GPU')\n",
        "try:\n",
        "    tf.config.experimental.set_memory_growth(physical_devices[0], True)\n",
        "except:\n",
        "    # Invalid device or cannot modify virtual devices once initialized.\n",
        "    pass"
      ]
    },
    {
      "cell_type": "code",
      "execution_count": null,
      "metadata": {
        "id": "P3IcyHyIzBNz"
      },
      "outputs": [],
      "source": [
        "# Import necessary libraries\n",
        "from keras import *\n",
        "from keras.preprocessing import text\n",
        "from keras.preprocessing import sequence"
      ]
    },
    {
      "cell_type": "code",
      "execution_count": null,
      "metadata": {
        "id": "scU73zUAzBN8"
      },
      "outputs": [],
      "source": [
        "from sklearn.model_selection import train_test_split\n",
        "\n",
        "import _utils as fn\n",
        "import numpy as np\n",
        "import pandas as pd\n",
        "import matplotlib.pyplot as plt"
      ]
    },
    {
      "cell_type": "markdown",
      "metadata": {
        "id": "vwseFj6nzBOB"
      },
      "source": [
        "### Read data"
      ]
    },
    {
      "cell_type": "code",
      "execution_count": null,
      "metadata": {
        "id": "j6kYioHfzBOC",
        "colab": {
          "base_uri": "https://localhost:8080/",
          "height": 300
        },
        "outputId": "a4b1f085-b5a6-4290-d883-9355bde3c8b3"
      },
      "outputs": [
        {
          "output_type": "execute_result",
          "data": {
            "text/plain": [
              "             emoji\n",
              "count  7480.000000\n",
              "mean      2.977273\n",
              "std       1.999269\n",
              "min       0.000000\n",
              "25%       1.000000\n",
              "50%       3.000000\n",
              "75%       5.000000\n",
              "max       6.000000"
            ],
            "text/html": [
              "\n",
              "  <div id=\"df-934b59e7-e956-4e86-af44-fd9fb80fd888\" class=\"colab-df-container\">\n",
              "    <div>\n",
              "<style scoped>\n",
              "    .dataframe tbody tr th:only-of-type {\n",
              "        vertical-align: middle;\n",
              "    }\n",
              "\n",
              "    .dataframe tbody tr th {\n",
              "        vertical-align: top;\n",
              "    }\n",
              "\n",
              "    .dataframe thead th {\n",
              "        text-align: right;\n",
              "    }\n",
              "</style>\n",
              "<table border=\"1\" class=\"dataframe\">\n",
              "  <thead>\n",
              "    <tr style=\"text-align: right;\">\n",
              "      <th></th>\n",
              "      <th>emoji</th>\n",
              "    </tr>\n",
              "  </thead>\n",
              "  <tbody>\n",
              "    <tr>\n",
              "      <th>count</th>\n",
              "      <td>7480.000000</td>\n",
              "    </tr>\n",
              "    <tr>\n",
              "      <th>mean</th>\n",
              "      <td>2.977273</td>\n",
              "    </tr>\n",
              "    <tr>\n",
              "      <th>std</th>\n",
              "      <td>1.999269</td>\n",
              "    </tr>\n",
              "    <tr>\n",
              "      <th>min</th>\n",
              "      <td>0.000000</td>\n",
              "    </tr>\n",
              "    <tr>\n",
              "      <th>25%</th>\n",
              "      <td>1.000000</td>\n",
              "    </tr>\n",
              "    <tr>\n",
              "      <th>50%</th>\n",
              "      <td>3.000000</td>\n",
              "    </tr>\n",
              "    <tr>\n",
              "      <th>75%</th>\n",
              "      <td>5.000000</td>\n",
              "    </tr>\n",
              "    <tr>\n",
              "      <th>max</th>\n",
              "      <td>6.000000</td>\n",
              "    </tr>\n",
              "  </tbody>\n",
              "</table>\n",
              "</div>\n",
              "    <div class=\"colab-df-buttons\">\n",
              "\n",
              "  <div class=\"colab-df-container\">\n",
              "    <button class=\"colab-df-convert\" onclick=\"convertToInteractive('df-934b59e7-e956-4e86-af44-fd9fb80fd888')\"\n",
              "            title=\"Convert this dataframe to an interactive table.\"\n",
              "            style=\"display:none;\">\n",
              "\n",
              "  <svg xmlns=\"http://www.w3.org/2000/svg\" height=\"24px\" viewBox=\"0 -960 960 960\">\n",
              "    <path d=\"M120-120v-720h720v720H120Zm60-500h600v-160H180v160Zm220 220h160v-160H400v160Zm0 220h160v-160H400v160ZM180-400h160v-160H180v160Zm440 0h160v-160H620v160ZM180-180h160v-160H180v160Zm440 0h160v-160H620v160Z\"/>\n",
              "  </svg>\n",
              "    </button>\n",
              "\n",
              "  <style>\n",
              "    .colab-df-container {\n",
              "      display:flex;\n",
              "      gap: 12px;\n",
              "    }\n",
              "\n",
              "    .colab-df-convert {\n",
              "      background-color: #E8F0FE;\n",
              "      border: none;\n",
              "      border-radius: 50%;\n",
              "      cursor: pointer;\n",
              "      display: none;\n",
              "      fill: #1967D2;\n",
              "      height: 32px;\n",
              "      padding: 0 0 0 0;\n",
              "      width: 32px;\n",
              "    }\n",
              "\n",
              "    .colab-df-convert:hover {\n",
              "      background-color: #E2EBFA;\n",
              "      box-shadow: 0px 1px 2px rgba(60, 64, 67, 0.3), 0px 1px 3px 1px rgba(60, 64, 67, 0.15);\n",
              "      fill: #174EA6;\n",
              "    }\n",
              "\n",
              "    .colab-df-buttons div {\n",
              "      margin-bottom: 4px;\n",
              "    }\n",
              "\n",
              "    [theme=dark] .colab-df-convert {\n",
              "      background-color: #3B4455;\n",
              "      fill: #D2E3FC;\n",
              "    }\n",
              "\n",
              "    [theme=dark] .colab-df-convert:hover {\n",
              "      background-color: #434B5C;\n",
              "      box-shadow: 0px 1px 3px 1px rgba(0, 0, 0, 0.15);\n",
              "      filter: drop-shadow(0px 1px 2px rgba(0, 0, 0, 0.3));\n",
              "      fill: #FFFFFF;\n",
              "    }\n",
              "  </style>\n",
              "\n",
              "    <script>\n",
              "      const buttonEl =\n",
              "        document.querySelector('#df-934b59e7-e956-4e86-af44-fd9fb80fd888 button.colab-df-convert');\n",
              "      buttonEl.style.display =\n",
              "        google.colab.kernel.accessAllowed ? 'block' : 'none';\n",
              "\n",
              "      async function convertToInteractive(key) {\n",
              "        const element = document.querySelector('#df-934b59e7-e956-4e86-af44-fd9fb80fd888');\n",
              "        const dataTable =\n",
              "          await google.colab.kernel.invokeFunction('convertToInteractive',\n",
              "                                                    [key], {});\n",
              "        if (!dataTable) return;\n",
              "\n",
              "        const docLinkHtml = 'Like what you see? Visit the ' +\n",
              "          '<a target=\"_blank\" href=https://colab.research.google.com/notebooks/data_table.ipynb>data table notebook</a>'\n",
              "          + ' to learn more about interactive tables.';\n",
              "        element.innerHTML = '';\n",
              "        dataTable['output_type'] = 'display_data';\n",
              "        await google.colab.output.renderOutput(dataTable, element);\n",
              "        const docLink = document.createElement('div');\n",
              "        docLink.innerHTML = docLinkHtml;\n",
              "        element.appendChild(docLink);\n",
              "      }\n",
              "    </script>\n",
              "  </div>\n",
              "\n",
              "\n",
              "<div id=\"df-fa258dc7-a956-4ecf-93b6-d80fb2dd27e2\">\n",
              "  <button class=\"colab-df-quickchart\" onclick=\"quickchart('df-fa258dc7-a956-4ecf-93b6-d80fb2dd27e2')\"\n",
              "            title=\"Suggest charts\"\n",
              "            style=\"display:none;\">\n",
              "\n",
              "<svg xmlns=\"http://www.w3.org/2000/svg\" height=\"24px\"viewBox=\"0 0 24 24\"\n",
              "     width=\"24px\">\n",
              "    <g>\n",
              "        <path d=\"M19 3H5c-1.1 0-2 .9-2 2v14c0 1.1.9 2 2 2h14c1.1 0 2-.9 2-2V5c0-1.1-.9-2-2-2zM9 17H7v-7h2v7zm4 0h-2V7h2v10zm4 0h-2v-4h2v4z\"/>\n",
              "    </g>\n",
              "</svg>\n",
              "  </button>\n",
              "\n",
              "<style>\n",
              "  .colab-df-quickchart {\n",
              "      --bg-color: #E8F0FE;\n",
              "      --fill-color: #1967D2;\n",
              "      --hover-bg-color: #E2EBFA;\n",
              "      --hover-fill-color: #174EA6;\n",
              "      --disabled-fill-color: #AAA;\n",
              "      --disabled-bg-color: #DDD;\n",
              "  }\n",
              "\n",
              "  [theme=dark] .colab-df-quickchart {\n",
              "      --bg-color: #3B4455;\n",
              "      --fill-color: #D2E3FC;\n",
              "      --hover-bg-color: #434B5C;\n",
              "      --hover-fill-color: #FFFFFF;\n",
              "      --disabled-bg-color: #3B4455;\n",
              "      --disabled-fill-color: #666;\n",
              "  }\n",
              "\n",
              "  .colab-df-quickchart {\n",
              "    background-color: var(--bg-color);\n",
              "    border: none;\n",
              "    border-radius: 50%;\n",
              "    cursor: pointer;\n",
              "    display: none;\n",
              "    fill: var(--fill-color);\n",
              "    height: 32px;\n",
              "    padding: 0;\n",
              "    width: 32px;\n",
              "  }\n",
              "\n",
              "  .colab-df-quickchart:hover {\n",
              "    background-color: var(--hover-bg-color);\n",
              "    box-shadow: 0 1px 2px rgba(60, 64, 67, 0.3), 0 1px 3px 1px rgba(60, 64, 67, 0.15);\n",
              "    fill: var(--button-hover-fill-color);\n",
              "  }\n",
              "\n",
              "  .colab-df-quickchart-complete:disabled,\n",
              "  .colab-df-quickchart-complete:disabled:hover {\n",
              "    background-color: var(--disabled-bg-color);\n",
              "    fill: var(--disabled-fill-color);\n",
              "    box-shadow: none;\n",
              "  }\n",
              "\n",
              "  .colab-df-spinner {\n",
              "    border: 2px solid var(--fill-color);\n",
              "    border-color: transparent;\n",
              "    border-bottom-color: var(--fill-color);\n",
              "    animation:\n",
              "      spin 1s steps(1) infinite;\n",
              "  }\n",
              "\n",
              "  @keyframes spin {\n",
              "    0% {\n",
              "      border-color: transparent;\n",
              "      border-bottom-color: var(--fill-color);\n",
              "      border-left-color: var(--fill-color);\n",
              "    }\n",
              "    20% {\n",
              "      border-color: transparent;\n",
              "      border-left-color: var(--fill-color);\n",
              "      border-top-color: var(--fill-color);\n",
              "    }\n",
              "    30% {\n",
              "      border-color: transparent;\n",
              "      border-left-color: var(--fill-color);\n",
              "      border-top-color: var(--fill-color);\n",
              "      border-right-color: var(--fill-color);\n",
              "    }\n",
              "    40% {\n",
              "      border-color: transparent;\n",
              "      border-right-color: var(--fill-color);\n",
              "      border-top-color: var(--fill-color);\n",
              "    }\n",
              "    60% {\n",
              "      border-color: transparent;\n",
              "      border-right-color: var(--fill-color);\n",
              "    }\n",
              "    80% {\n",
              "      border-color: transparent;\n",
              "      border-right-color: var(--fill-color);\n",
              "      border-bottom-color: var(--fill-color);\n",
              "    }\n",
              "    90% {\n",
              "      border-color: transparent;\n",
              "      border-bottom-color: var(--fill-color);\n",
              "    }\n",
              "  }\n",
              "</style>\n",
              "\n",
              "  <script>\n",
              "    async function quickchart(key) {\n",
              "      const quickchartButtonEl =\n",
              "        document.querySelector('#' + key + ' button');\n",
              "      quickchartButtonEl.disabled = true;  // To prevent multiple clicks.\n",
              "      quickchartButtonEl.classList.add('colab-df-spinner');\n",
              "      try {\n",
              "        const charts = await google.colab.kernel.invokeFunction(\n",
              "            'suggestCharts', [key], {});\n",
              "      } catch (error) {\n",
              "        console.error('Error during call to suggestCharts:', error);\n",
              "      }\n",
              "      quickchartButtonEl.classList.remove('colab-df-spinner');\n",
              "      quickchartButtonEl.classList.add('colab-df-quickchart-complete');\n",
              "    }\n",
              "    (() => {\n",
              "      let quickchartButtonEl =\n",
              "        document.querySelector('#df-fa258dc7-a956-4ecf-93b6-d80fb2dd27e2 button');\n",
              "      quickchartButtonEl.style.display =\n",
              "        google.colab.kernel.accessAllowed ? 'block' : 'none';\n",
              "    })();\n",
              "  </script>\n",
              "</div>\n",
              "    </div>\n",
              "  </div>\n"
            ]
          },
          "metadata": {},
          "execution_count": 30
        }
      ],
      "source": [
        "# import data\n",
        "df = pd.read_csv('/content/drive/MyDrive/CPE342 Machine Learning/Lecture13/Lecture13/emoji_data.csv')\n",
        "df.describe()"
      ]
    },
    {
      "cell_type": "code",
      "execution_count": null,
      "metadata": {
        "id": "2_V7jmB6zBOG",
        "colab": {
          "base_uri": "https://localhost:8080/",
          "height": 206
        },
        "outputId": "d3b877ad-5015-42b4-ff22-2b9150a05855"
      },
      "outputs": [
        {
          "output_type": "execute_result",
          "data": {
            "text/plain": [
              "                                            sentence  emoji\n",
              "0  During the period of falling in love, each tim...      0\n",
              "1         When I was involved in a traffic accident.      1\n",
              "2  When I was driving home after  several days of...      2\n",
              "3   When I lost the person who meant the most to me.      3\n",
              "4  The time I knocked a deer down - the sight of ...      4"
            ],
            "text/html": [
              "\n",
              "  <div id=\"df-2ad65fa7-6f07-4632-ad61-435d556245e2\" class=\"colab-df-container\">\n",
              "    <div>\n",
              "<style scoped>\n",
              "    .dataframe tbody tr th:only-of-type {\n",
              "        vertical-align: middle;\n",
              "    }\n",
              "\n",
              "    .dataframe tbody tr th {\n",
              "        vertical-align: top;\n",
              "    }\n",
              "\n",
              "    .dataframe thead th {\n",
              "        text-align: right;\n",
              "    }\n",
              "</style>\n",
              "<table border=\"1\" class=\"dataframe\">\n",
              "  <thead>\n",
              "    <tr style=\"text-align: right;\">\n",
              "      <th></th>\n",
              "      <th>sentence</th>\n",
              "      <th>emoji</th>\n",
              "    </tr>\n",
              "  </thead>\n",
              "  <tbody>\n",
              "    <tr>\n",
              "      <th>0</th>\n",
              "      <td>During the period of falling in love, each tim...</td>\n",
              "      <td>0</td>\n",
              "    </tr>\n",
              "    <tr>\n",
              "      <th>1</th>\n",
              "      <td>When I was involved in a traffic accident.</td>\n",
              "      <td>1</td>\n",
              "    </tr>\n",
              "    <tr>\n",
              "      <th>2</th>\n",
              "      <td>When I was driving home after  several days of...</td>\n",
              "      <td>2</td>\n",
              "    </tr>\n",
              "    <tr>\n",
              "      <th>3</th>\n",
              "      <td>When I lost the person who meant the most to me.</td>\n",
              "      <td>3</td>\n",
              "    </tr>\n",
              "    <tr>\n",
              "      <th>4</th>\n",
              "      <td>The time I knocked a deer down - the sight of ...</td>\n",
              "      <td>4</td>\n",
              "    </tr>\n",
              "  </tbody>\n",
              "</table>\n",
              "</div>\n",
              "    <div class=\"colab-df-buttons\">\n",
              "\n",
              "  <div class=\"colab-df-container\">\n",
              "    <button class=\"colab-df-convert\" onclick=\"convertToInteractive('df-2ad65fa7-6f07-4632-ad61-435d556245e2')\"\n",
              "            title=\"Convert this dataframe to an interactive table.\"\n",
              "            style=\"display:none;\">\n",
              "\n",
              "  <svg xmlns=\"http://www.w3.org/2000/svg\" height=\"24px\" viewBox=\"0 -960 960 960\">\n",
              "    <path d=\"M120-120v-720h720v720H120Zm60-500h600v-160H180v160Zm220 220h160v-160H400v160Zm0 220h160v-160H400v160ZM180-400h160v-160H180v160Zm440 0h160v-160H620v160ZM180-180h160v-160H180v160Zm440 0h160v-160H620v160Z\"/>\n",
              "  </svg>\n",
              "    </button>\n",
              "\n",
              "  <style>\n",
              "    .colab-df-container {\n",
              "      display:flex;\n",
              "      gap: 12px;\n",
              "    }\n",
              "\n",
              "    .colab-df-convert {\n",
              "      background-color: #E8F0FE;\n",
              "      border: none;\n",
              "      border-radius: 50%;\n",
              "      cursor: pointer;\n",
              "      display: none;\n",
              "      fill: #1967D2;\n",
              "      height: 32px;\n",
              "      padding: 0 0 0 0;\n",
              "      width: 32px;\n",
              "    }\n",
              "\n",
              "    .colab-df-convert:hover {\n",
              "      background-color: #E2EBFA;\n",
              "      box-shadow: 0px 1px 2px rgba(60, 64, 67, 0.3), 0px 1px 3px 1px rgba(60, 64, 67, 0.15);\n",
              "      fill: #174EA6;\n",
              "    }\n",
              "\n",
              "    .colab-df-buttons div {\n",
              "      margin-bottom: 4px;\n",
              "    }\n",
              "\n",
              "    [theme=dark] .colab-df-convert {\n",
              "      background-color: #3B4455;\n",
              "      fill: #D2E3FC;\n",
              "    }\n",
              "\n",
              "    [theme=dark] .colab-df-convert:hover {\n",
              "      background-color: #434B5C;\n",
              "      box-shadow: 0px 1px 3px 1px rgba(0, 0, 0, 0.15);\n",
              "      filter: drop-shadow(0px 1px 2px rgba(0, 0, 0, 0.3));\n",
              "      fill: #FFFFFF;\n",
              "    }\n",
              "  </style>\n",
              "\n",
              "    <script>\n",
              "      const buttonEl =\n",
              "        document.querySelector('#df-2ad65fa7-6f07-4632-ad61-435d556245e2 button.colab-df-convert');\n",
              "      buttonEl.style.display =\n",
              "        google.colab.kernel.accessAllowed ? 'block' : 'none';\n",
              "\n",
              "      async function convertToInteractive(key) {\n",
              "        const element = document.querySelector('#df-2ad65fa7-6f07-4632-ad61-435d556245e2');\n",
              "        const dataTable =\n",
              "          await google.colab.kernel.invokeFunction('convertToInteractive',\n",
              "                                                    [key], {});\n",
              "        if (!dataTable) return;\n",
              "\n",
              "        const docLinkHtml = 'Like what you see? Visit the ' +\n",
              "          '<a target=\"_blank\" href=https://colab.research.google.com/notebooks/data_table.ipynb>data table notebook</a>'\n",
              "          + ' to learn more about interactive tables.';\n",
              "        element.innerHTML = '';\n",
              "        dataTable['output_type'] = 'display_data';\n",
              "        await google.colab.output.renderOutput(dataTable, element);\n",
              "        const docLink = document.createElement('div');\n",
              "        docLink.innerHTML = docLinkHtml;\n",
              "        element.appendChild(docLink);\n",
              "      }\n",
              "    </script>\n",
              "  </div>\n",
              "\n",
              "\n",
              "<div id=\"df-85ab8833-2b43-468c-91aa-096f74efd260\">\n",
              "  <button class=\"colab-df-quickchart\" onclick=\"quickchart('df-85ab8833-2b43-468c-91aa-096f74efd260')\"\n",
              "            title=\"Suggest charts\"\n",
              "            style=\"display:none;\">\n",
              "\n",
              "<svg xmlns=\"http://www.w3.org/2000/svg\" height=\"24px\"viewBox=\"0 0 24 24\"\n",
              "     width=\"24px\">\n",
              "    <g>\n",
              "        <path d=\"M19 3H5c-1.1 0-2 .9-2 2v14c0 1.1.9 2 2 2h14c1.1 0 2-.9 2-2V5c0-1.1-.9-2-2-2zM9 17H7v-7h2v7zm4 0h-2V7h2v10zm4 0h-2v-4h2v4z\"/>\n",
              "    </g>\n",
              "</svg>\n",
              "  </button>\n",
              "\n",
              "<style>\n",
              "  .colab-df-quickchart {\n",
              "      --bg-color: #E8F0FE;\n",
              "      --fill-color: #1967D2;\n",
              "      --hover-bg-color: #E2EBFA;\n",
              "      --hover-fill-color: #174EA6;\n",
              "      --disabled-fill-color: #AAA;\n",
              "      --disabled-bg-color: #DDD;\n",
              "  }\n",
              "\n",
              "  [theme=dark] .colab-df-quickchart {\n",
              "      --bg-color: #3B4455;\n",
              "      --fill-color: #D2E3FC;\n",
              "      --hover-bg-color: #434B5C;\n",
              "      --hover-fill-color: #FFFFFF;\n",
              "      --disabled-bg-color: #3B4455;\n",
              "      --disabled-fill-color: #666;\n",
              "  }\n",
              "\n",
              "  .colab-df-quickchart {\n",
              "    background-color: var(--bg-color);\n",
              "    border: none;\n",
              "    border-radius: 50%;\n",
              "    cursor: pointer;\n",
              "    display: none;\n",
              "    fill: var(--fill-color);\n",
              "    height: 32px;\n",
              "    padding: 0;\n",
              "    width: 32px;\n",
              "  }\n",
              "\n",
              "  .colab-df-quickchart:hover {\n",
              "    background-color: var(--hover-bg-color);\n",
              "    box-shadow: 0 1px 2px rgba(60, 64, 67, 0.3), 0 1px 3px 1px rgba(60, 64, 67, 0.15);\n",
              "    fill: var(--button-hover-fill-color);\n",
              "  }\n",
              "\n",
              "  .colab-df-quickchart-complete:disabled,\n",
              "  .colab-df-quickchart-complete:disabled:hover {\n",
              "    background-color: var(--disabled-bg-color);\n",
              "    fill: var(--disabled-fill-color);\n",
              "    box-shadow: none;\n",
              "  }\n",
              "\n",
              "  .colab-df-spinner {\n",
              "    border: 2px solid var(--fill-color);\n",
              "    border-color: transparent;\n",
              "    border-bottom-color: var(--fill-color);\n",
              "    animation:\n",
              "      spin 1s steps(1) infinite;\n",
              "  }\n",
              "\n",
              "  @keyframes spin {\n",
              "    0% {\n",
              "      border-color: transparent;\n",
              "      border-bottom-color: var(--fill-color);\n",
              "      border-left-color: var(--fill-color);\n",
              "    }\n",
              "    20% {\n",
              "      border-color: transparent;\n",
              "      border-left-color: var(--fill-color);\n",
              "      border-top-color: var(--fill-color);\n",
              "    }\n",
              "    30% {\n",
              "      border-color: transparent;\n",
              "      border-left-color: var(--fill-color);\n",
              "      border-top-color: var(--fill-color);\n",
              "      border-right-color: var(--fill-color);\n",
              "    }\n",
              "    40% {\n",
              "      border-color: transparent;\n",
              "      border-right-color: var(--fill-color);\n",
              "      border-top-color: var(--fill-color);\n",
              "    }\n",
              "    60% {\n",
              "      border-color: transparent;\n",
              "      border-right-color: var(--fill-color);\n",
              "    }\n",
              "    80% {\n",
              "      border-color: transparent;\n",
              "      border-right-color: var(--fill-color);\n",
              "      border-bottom-color: var(--fill-color);\n",
              "    }\n",
              "    90% {\n",
              "      border-color: transparent;\n",
              "      border-bottom-color: var(--fill-color);\n",
              "    }\n",
              "  }\n",
              "</style>\n",
              "\n",
              "  <script>\n",
              "    async function quickchart(key) {\n",
              "      const quickchartButtonEl =\n",
              "        document.querySelector('#' + key + ' button');\n",
              "      quickchartButtonEl.disabled = true;  // To prevent multiple clicks.\n",
              "      quickchartButtonEl.classList.add('colab-df-spinner');\n",
              "      try {\n",
              "        const charts = await google.colab.kernel.invokeFunction(\n",
              "            'suggestCharts', [key], {});\n",
              "      } catch (error) {\n",
              "        console.error('Error during call to suggestCharts:', error);\n",
              "      }\n",
              "      quickchartButtonEl.classList.remove('colab-df-spinner');\n",
              "      quickchartButtonEl.classList.add('colab-df-quickchart-complete');\n",
              "    }\n",
              "    (() => {\n",
              "      let quickchartButtonEl =\n",
              "        document.querySelector('#df-85ab8833-2b43-468c-91aa-096f74efd260 button');\n",
              "      quickchartButtonEl.style.display =\n",
              "        google.colab.kernel.accessAllowed ? 'block' : 'none';\n",
              "    })();\n",
              "  </script>\n",
              "</div>\n",
              "    </div>\n",
              "  </div>\n"
            ]
          },
          "metadata": {},
          "execution_count": 31
        }
      ],
      "source": [
        "df.head()"
      ]
    },
    {
      "cell_type": "code",
      "execution_count": null,
      "metadata": {
        "id": "DqmKIMlazBOM"
      },
      "outputs": [],
      "source": [
        "x = df['sentence'].values\n",
        "y = df['emoji'].values"
      ]
    },
    {
      "cell_type": "code",
      "execution_count": null,
      "metadata": {
        "id": "pVVjmo3-zBOQ",
        "colab": {
          "base_uri": "https://localhost:8080/",
          "height": 36
        },
        "outputId": "38ce06fa-73dd-498e-bd2b-719b00cbee65"
      },
      "outputs": [
        {
          "output_type": "execute_result",
          "data": {
            "text/plain": [
              "'During the period of falling in love, each time that we met and especially when we had not met for a long time.'"
            ],
            "application/vnd.google.colaboratory.intrinsic+json": {
              "type": "string"
            }
          },
          "metadata": {},
          "execution_count": 33
        }
      ],
      "source": [
        "x[0]"
      ]
    },
    {
      "cell_type": "code",
      "execution_count": null,
      "metadata": {
        "id": "Cu6VV6ErzBOX",
        "colab": {
          "base_uri": "https://localhost:8080/"
        },
        "outputId": "6423a877-649f-43ac-e85f-0f6fe84a8df3"
      },
      "outputs": [
        {
          "output_type": "execute_result",
          "data": {
            "text/plain": [
              "0"
            ]
          },
          "metadata": {},
          "execution_count": 34
        }
      ],
      "source": [
        "y[0]"
      ]
    },
    {
      "cell_type": "markdown",
      "metadata": {
        "id": "bcpkiM4AzBOa"
      },
      "source": [
        "### Split train-test-validate sets"
      ]
    },
    {
      "cell_type": "code",
      "execution_count": null,
      "metadata": {
        "id": "sWnIR4KuzBOb"
      },
      "outputs": [],
      "source": [
        "# Split train & test sets\n",
        "x_train,x_test,y_train,y_test = train_test_split(x,y,test_size =0.1,stratify=y,random_state=0)\n",
        "# Split train validate sets\n",
        "x_train,x_val,y_train,y_val = train_test_split(x,y,test_size =0.1,stratify=y,random_state=0)"
      ]
    },
    {
      "cell_type": "code",
      "execution_count": null,
      "metadata": {
        "id": "NgcVVr8KzBOe",
        "colab": {
          "base_uri": "https://localhost:8080/",
          "height": 332
        },
        "outputId": "0cffeb38-717d-43e6-bc22-5645e8d11917"
      },
      "outputs": [
        {
          "output_type": "execute_result",
          "data": {
            "text/plain": [
              "Text(0.5, 1.0, 'y val')"
            ]
          },
          "metadata": {},
          "execution_count": 36
        },
        {
          "output_type": "display_data",
          "data": {
            "text/plain": [
              "<Figure size 1500x300 with 3 Axes>"
            ],
            "image/png": "[encoded data removed]"
          },
          "metadata": {}
        }
      ],
      "source": [
        "# Plot the target distributions\n",
        "fig,ax =plt.subplots(1,3,figsize=(15,3))\n",
        "\n",
        "bins = [0,1,2,3,4,5,6,7]\n",
        "\n",
        "ax[0].hist(y_train,bins=bins)\n",
        "ax[0].set_title('y train')\n",
        "ax[1].hist(y_test,bins=bins)\n",
        "ax[1].set_title('y test')\n",
        "ax[2].hist(y_val,bins=bins)\n",
        "ax[2].set_title('y val')"
      ]
    },
    {
      "cell_type": "markdown",
      "source": [
        "จะเห็นว่ามีการกระจายตัวกันของข้อมูล train test validate เท่าๆ กัน"
      ],
      "metadata": {
        "id": "UuMZWoV6X9jA"
      }
    },
    {
      "cell_type": "markdown",
      "metadata": {
        "id": "lfVoxNL3zBOt"
      },
      "source": [
        "### Preprocess data: Tokenizer & Padding"
      ]
    },
    {
      "cell_type": "code",
      "execution_count": null,
      "metadata": {
        "id": "UsGEGtrXzBOu"
      },
      "outputs": [],
      "source": [
        "# Define parameter\n",
        "max_word = 5000\n",
        "maxlen = 20\n",
        "max_features = 5000"
      ]
    },
    {
      "cell_type": "markdown",
      "metadata": {
        "id": "W0JvcP_9H-KT"
      },
      "source": [
        "First, we create the ```Tokenizer``` object and specify how many words we want to keep in our vocabulary after tokenization. Following this step, previously unseen words would simply be removed from our vocabulary."
      ]
    },
    {
      "cell_type": "code",
      "execution_count": null,
      "metadata": {
        "id": "CTTD0FPWzBOy"
      },
      "outputs": [],
      "source": [
        "# Define Tokenizer\n",
        "tokenizer = text.Tokenizer(num_words = max_word) #define corpus to keep the maximum number of words\n",
        "tokenizer.fit_on_texts(x_train)"
      ]
    },
    {
      "cell_type": "markdown",
      "metadata": {
        "id": "Bw6V8NokJXFg"
      },
      "source": [
        " The ```word index``` displays a mapping that converts words in our vocabulary into numeric representations, which will be necessary for encoding our sequences."
      ]
    },
    {
      "cell_type": "code",
      "execution_count": null,
      "metadata": {
        "collapsed": true,
        "id": "EwieqK6CzBO1",
        "jupyter": {
          "outputs_hidden": true
        },
        "tags": []
      },
      "outputs": [],
      "source": [
        "#this cell just show each token and its index\n",
        "#tokenizer.word_index"
      ]
    },
    {
      "cell_type": "code",
      "execution_count": null,
      "metadata": {
        "id": "t09I2DPcMkzV",
        "colab": {
          "base_uri": "https://localhost:8080/"
        },
        "outputId": "8d5b070e-f864-4883-ff8c-8771c5b98faf"
      },
      "outputs": [
        {
          "output_type": "execute_result",
          "data": {
            "text/plain": [
              "5000"
            ]
          },
          "metadata": {},
          "execution_count": 40
        }
      ],
      "source": [
        "tokenizer.num_words"
      ]
    },
    {
      "cell_type": "code",
      "execution_count": null,
      "metadata": {
        "id": "UFH53G4KBJwu"
      },
      "outputs": [],
      "source": [
        "from keras.utils import pad_sequences"
      ]
    },
    {
      "cell_type": "code",
      "execution_count": null,
      "metadata": {
        "id": "rbbZnyjSzBO4"
      },
      "outputs": [],
      "source": [
        "# Data preprocessing function\n",
        "def preprocess_fn(data):\n",
        "    sequences = tokenizer.texts_to_sequences(data)\n",
        "    padding_sequences = pad_sequences(sequences,maxlen = maxlen)\n",
        "\n",
        "    return padding_sequences,sequences"
      ]
    },
    {
      "cell_type": "markdown",
      "metadata": {
        "id": "lLCe7uNBJyz8"
      },
      "source": [
        "Here, ```Text to Sequences``` converts our text sentences from, for example,\n",
        "\n",
        "\"My name is Matthew\"\n",
        "\n",
        " to\n",
        "\n",
        "  \"6 8 2 19\"\n",
        "  \n",
        "refers to the corresponding words in the index."
      ]
    },
    {
      "cell_type": "markdown",
      "metadata": {
        "id": "A7NCUBbILQJx"
      },
      "source": [
        "```padding``` is used to pad all other sequences with extra '0's until the sentence's maximum length is reached, and it will also truncate any sequences that are longer than the maximum length.\n",
        "\n",
        "``` maxlen``` must be the maximum length of the sentence."
      ]
    },
    {
      "cell_type": "code",
      "execution_count": null,
      "metadata": {
        "id": "3V2MqmI7xg3b",
        "colab": {
          "base_uri": "https://localhost:8080/"
        },
        "outputId": "9e4ab28c-b7f1-4d28-c0f1-316bccae6798"
      },
      "outputs": [
        {
          "output_type": "execute_result",
          "data": {
            "text/plain": [
              "863"
            ]
          },
          "metadata": {},
          "execution_count": 43
        }
      ],
      "source": [
        "len(max(x_train, key=len))"
      ]
    },
    {
      "cell_type": "code",
      "execution_count": null,
      "metadata": {
        "id": "zThy4dLwzBO8"
      },
      "outputs": [],
      "source": [
        "# Preprocess data\n",
        "x_train,sequences_x_train =  preprocess_fn(x_train)\n",
        "x_val,sequences_x_val = preprocess_fn(x_val)\n",
        "x_test,sequences_x_test = preprocess_fn(x_test)"
      ]
    },
    {
      "cell_type": "markdown",
      "metadata": {
        "id": "XRyuVpRSMDez"
      },
      "source": [
        "The shape of our training sequences matrix indicates the number of sentences (sequences) in our training set (6732) as well as the length of our longest sequence (maxlen, or 20)."
      ]
    },
    {
      "cell_type": "code",
      "execution_count": null,
      "metadata": {
        "id": "6b87dfcaLxEl",
        "colab": {
          "base_uri": "https://localhost:8080/"
        },
        "outputId": "1f5d2b41-20b3-4ed0-f720-4563379ab4e9"
      },
      "outputs": [
        {
          "output_type": "execute_result",
          "data": {
            "text/plain": [
              "(6732, 20)"
            ]
          },
          "metadata": {},
          "execution_count": 45
        }
      ],
      "source": [
        "x_train.shape"
      ]
    },
    {
      "cell_type": "code",
      "execution_count": null,
      "metadata": {
        "id": "PFtsZfHjxkUB",
        "colab": {
          "base_uri": "https://localhost:8080/"
        },
        "outputId": "1a65a296-17d6-4bbb-d867-72797cbf706b"
      },
      "outputs": [
        {
          "output_type": "execute_result",
          "data": {
            "text/plain": [
              "20"
            ]
          },
          "metadata": {},
          "execution_count": 46
        }
      ],
      "source": [
        "len(max(x_train, key=len))"
      ]
    },
    {
      "cell_type": "code",
      "execution_count": null,
      "metadata": {
        "id": "cauql5cKUO0B",
        "colab": {
          "base_uri": "https://localhost:8080/"
        },
        "outputId": "c1ba812a-bb6a-4e02-f55c-16d63cbcde7e"
      },
      "outputs": [
        {
          "output_type": "execute_result",
          "data": {
            "text/plain": [
              "array([[ 338,    4,  719, ...,    6, 1529,   93],\n",
              "       [   0,    0,    0, ...,  408,    4,   12],\n",
              "       [   4,  345,    3, ...,   11,  172,  173],\n",
              "       ...,\n",
              "       [   0,    0,    0, ...,  127,    5,   22],\n",
              "       [   0,    0,    0, ...,   86, 1403,   12],\n",
              "       [  14,   40,    4, ...,  981,    4,   12]], dtype=int32)"
            ]
          },
          "metadata": {},
          "execution_count": 47
        }
      ],
      "source": [
        "x_train"
      ]
    },
    {
      "cell_type": "code",
      "execution_count": null,
      "metadata": {
        "collapsed": true,
        "id": "UlF13nYkURAS",
        "jupyter": {
          "outputs_hidden": true
        },
        "tags": []
      },
      "outputs": [],
      "source": [
        "#this cell is just to show sequences_x_train\n",
        "#sequences_x_train"
      ]
    },
    {
      "cell_type": "markdown",
      "metadata": {
        "id": "z1yYDwB3zBPB"
      },
      "source": [
        "### Build a model with word embedding"
      ]
    },
    {
      "cell_type": "markdown",
      "metadata": {
        "id": "6v2Z3pM3NDlN"
      },
      "source": [
        "![image.png](data:image/png;base64,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)\n",
        "\n",
        "\n",
        "Embedding\n",
        "\n",
        "```\n",
        "Embedding(input_dim , output_dim , input_length)\n",
        "```\n",
        "```input_dim``` is the size of the vocabulary in the text data. For example, if your data is integer encoded values between 0-5000 vocabulary, the vocabulary size would be 5000 words.\n",
        "\n",
        "```output_dim``` is the size of the vector space in which words will be embedded. It specifies the size of the output vectors from this layer for each word. It could be 32, 100, or even larger. Test different values for your problem.\n",
        "\n",
        "```input_length```is the length of input sequences, as defined for any Keras model input layer. For example, if all of your input documents are 20 words long, this would be 20 ( or max length from previous section).\n",
        "\n",
        "\n"
      ]
    },
    {
      "cell_type": "code",
      "execution_count": null,
      "metadata": {
        "id": "P4ynhrT8zBPD"
      },
      "outputs": [],
      "source": [
        "# Define model\n",
        "rnn = models.Sequential()\n",
        "rnn.add(layers.Embedding(max_features,64,input_length=maxlen))\n",
        "\n",
        "rnn.add(layers.LSTM(32))\n",
        "rnn.add(layers.Dropout(0.5))\n",
        "rnn.add(layers.Dense(64,activation='elu'))\n",
        "rnn.add(layers.Dense(7,activation='softmax'))"
      ]
    },
    {
      "cell_type": "code",
      "execution_count": null,
      "metadata": {
        "id": "vbBQOnTJzBPK"
      },
      "outputs": [],
      "source": [
        "# Compile model\n",
        "rnn.compile(optimizer='rmsprop',loss='sparse_categorical_crossentropy',metrics=['acc'])"
      ]
    },
    {
      "cell_type": "code",
      "execution_count": null,
      "metadata": {
        "id": "opLlsVt3zBPO",
        "colab": {
          "base_uri": "https://localhost:8080/"
        },
        "outputId": "f1aa7d1c-0efa-46df-8c5f-7cae67b7f562"
      },
      "outputs": [
        {
          "output_type": "stream",
          "name": "stdout",
          "text": [
            "Model: \"sequential\"\n",
            "_________________________________________________________________\n",
            " Layer (type)                Output Shape              Param #   \n",
            "=================================================================\n",
            " embedding (Embedding)       (None, 20, 64)            320000    \n",
            "                                                                 \n",
            " lstm (LSTM)                 (None, 32)                12416     \n",
            "                                                                 \n",
            " dropout (Dropout)           (None, 32)                0         \n",
            "                                                                 \n",
            " dense (Dense)               (None, 64)                2112      \n",
            "                                                                 \n",
            " dense_1 (Dense)             (None, 7)                 455       \n",
            "                                                                 \n",
            "=================================================================\n",
            "Total params: 334983 (1.28 MB)\n",
            "Trainable params: 334983 (1.28 MB)\n",
            "Non-trainable params: 0 (0.00 Byte)\n",
            "_________________________________________________________________\n"
          ]
        }
      ],
      "source": [
        "# Show model structure\n",
        "rnn.summary()"
      ]
    },
    {
      "cell_type": "code",
      "execution_count": null,
      "metadata": {
        "id": "sOW6UQZKzBPd",
        "colab": {
          "base_uri": "https://localhost:8080/"
        },
        "outputId": "54a80292-df01-415f-f126-8e6ac29cbf6c"
      },
      "outputs": [
        {
          "output_type": "stream",
          "name": "stdout",
          "text": [
            "Epoch 1/5\n",
            "211/211 [==============================] - 13s 43ms/step - loss: 1.8926 - acc: 0.2126 - val_loss: 1.7384 - val_acc: 0.3235\n",
            "Epoch 2/5\n",
            "211/211 [==============================] - 2s 11ms/step - loss: 1.5898 - acc: 0.3743 - val_loss: 1.4957 - val_acc: 0.4372\n",
            "Epoch 3/5\n",
            "211/211 [==============================] - 2s 8ms/step - loss: 1.3026 - acc: 0.5153 - val_loss: 1.3850 - val_acc: 0.4987\n",
            "Epoch 4/5\n",
            "211/211 [==============================] - 2s 7ms/step - loss: 1.1151 - acc: 0.5991 - val_loss: 1.3550 - val_acc: 0.5187\n",
            "Epoch 5/5\n",
            "211/211 [==============================] - 2s 9ms/step - loss: 0.9943 - acc: 0.6515 - val_loss: 1.3751 - val_acc: 0.5254\n"
          ]
        }
      ],
      "source": [
        "# Fit model\n",
        "his =  rnn.fit(x_train,y_train,epochs=5,batch_size=32,validation_data=(x_val,y_val))"
      ]
    },
    {
      "cell_type": "code",
      "execution_count": null,
      "metadata": {
        "id": "dOMgWa8DzBPh",
        "colab": {
          "base_uri": "https://localhost:8080/",
          "height": 446
        },
        "outputId": "83760976-3b27-49c9-ab02-4779fe6fae8d"
      },
      "outputs": [
        {
          "output_type": "stream",
          "name": "stdout",
          "text": [
            "Last train accuracy: 0.6515151262283325\n",
            "Last validation accuracy: 0.5254010558128357\n"
          ]
        },
        {
          "output_type": "display_data",
          "data": {
            "text/plain": [
              "<Figure size 1500x400 with 2 Axes>"
            ],
            "image/png": "[encoded data removed]"
          },
          "metadata": {}
        }
      ],
      "source": [
        "# Plot accuracy and loss over each epoch\n",
        "fn.show_result(his)"
      ]
    },
    {
      "cell_type": "markdown",
      "metadata": {
        "id": "my1NEe19zBPl"
      },
      "source": [
        "### Evaluate Model\n",
        "Baseline of the model is 14.28% (Random prediction)"
      ]
    },
    {
      "cell_type": "code",
      "execution_count": null,
      "metadata": {
        "id": "nXAh0n0TzBPr",
        "colab": {
          "base_uri": "https://localhost:8080/"
        },
        "outputId": "1946827b-c1ea-447a-9a8d-9062aa3a0610"
      },
      "outputs": [
        {
          "output_type": "stream",
          "name": "stdout",
          "text": [
            "24/24 [==============================] - 0s 3ms/step - loss: 1.3751 - acc: 0.5254\n"
          ]
        },
        {
          "output_type": "execute_result",
          "data": {
            "text/plain": [
              "[1.3751035928726196, 0.5254010558128357]"
            ]
          },
          "metadata": {},
          "execution_count": 54
        }
      ],
      "source": [
        "# Evaluate model with test data\n",
        "rnn.evaluate(x_test,y_test)"
      ]
    },
    {
      "cell_type": "code",
      "execution_count": null,
      "metadata": {
        "id": "ENAfGpwXzBP2",
        "colab": {
          "base_uri": "https://localhost:8080/"
        },
        "outputId": "c103b199-2f83-46c2-81c0-06a98ca1dedd"
      },
      "outputs": [
        {
          "output_type": "stream",
          "name": "stdout",
          "text": [
            "24/24 [==============================] - 0s 2ms/step\n",
            "[[79  6  3  6  7  5  2]\n",
            " [ 7 63  7 10 12  7  2]\n",
            " [10  4 42  8 20 11 13]\n",
            " [13  1  7 59 14  9  5]\n",
            " [ 8  0 11  4 66 12  5]\n",
            " [ 7 11 16  6 13 43  8]\n",
            " [ 4  6 23  5  6 21 41]]\n",
            "              precision    recall  f1-score   support\n",
            "\n",
            "           0       0.62      0.73      0.67       108\n",
            "           1       0.69      0.58      0.63       108\n",
            "           2       0.39      0.39      0.39       108\n",
            "           3       0.60      0.55      0.57       108\n",
            "           4       0.48      0.62      0.54       106\n",
            "           5       0.40      0.41      0.41       104\n",
            "           6       0.54      0.39      0.45       106\n",
            "\n",
            "    accuracy                           0.53       748\n",
            "   macro avg       0.53      0.52      0.52       748\n",
            "weighted avg       0.53      0.53      0.52       748\n",
            "\n",
            "Loss: 1.3751035928726196 Accuracy: 0.5254010558128357\n"
          ]
        },
        {
          "output_type": "execute_result",
          "data": {
            "text/plain": [
              "array([1, 6, 3, 2, 2, 3, 0, 0, 3, 1, 4, 3, 3, 4, 2, 1, 4, 6, 4, 6, 4, 0,\n",
              "       4, 6, 3, 4, 3, 1, 5, 2, 3, 2, 5, 4, 3, 0, 6, 2, 6, 0, 0, 4, 1, 2,\n",
              "       4, 2, 3, 3, 3, 3, 0, 0, 1, 0, 4, 5, 3, 1, 3, 6, 0, 1, 0, 0, 0, 6,\n",
              "       2, 2, 0, 3, 4, 4, 1, 0, 0, 4, 2, 3, 6, 2, 2, 2, 4, 3, 5, 5, 5, 2,\n",
              "       2, 6, 4, 1, 5, 6, 0, 3, 0, 3, 5, 5, 2, 4, 1, 5, 5, 1, 5, 0, 0, 3,\n",
              "       5, 1, 0, 2, 0, 1, 1, 2, 0, 5, 1, 5, 3, 0, 4, 4, 0, 0, 2, 4, 2, 2,\n",
              "       3, 2, 1, 0, 4, 2, 4, 4, 0, 5, 6, 5, 5, 2, 5, 5, 3, 1, 1, 0, 4, 1,\n",
              "       0, 4, 0, 5, 4, 4, 2, 6, 4, 0, 3, 3, 2, 3, 2, 3, 1, 0, 4, 0, 0, 2,\n",
              "       2, 2, 1, 4, 2, 3, 5, 5, 0, 5, 0, 6, 1, 3, 0, 1, 3, 3, 3, 5, 2, 4,\n",
              "       4, 2, 2, 4, 2, 4, 5, 2, 6, 2, 1, 5, 0, 2, 3, 0, 2, 3, 0, 2, 1, 5,\n",
              "       0, 4, 4, 4, 2, 2, 4, 0, 3, 4, 4, 0, 5, 0, 1, 4, 2, 2, 5, 2, 6, 5,\n",
              "       0, 4, 6, 2, 0, 1, 4, 5, 5, 4, 4, 2, 3, 5, 4, 4, 3, 6, 4, 0, 3, 2,\n",
              "       6, 4, 6, 5, 6, 5, 4, 0, 4, 5, 6, 5, 1, 2, 3, 3, 2, 0, 1, 2, 5, 6,\n",
              "       2, 2, 5, 0, 6, 4, 1, 2, 0, 5, 2, 5, 4, 1, 6, 0, 3, 0, 4, 5, 3, 1,\n",
              "       3, 0, 4, 0, 1, 0, 0, 0, 2, 2, 6, 4, 0, 6, 4, 4, 4, 1, 6, 2, 0, 6,\n",
              "       4, 0, 0, 1, 1, 1, 3, 5, 1, 1, 6, 4, 6, 3, 3, 6, 4, 1, 1, 6, 4, 3,\n",
              "       1, 6, 4, 5, 5, 1, 0, 2, 4, 2, 5, 5, 4, 4, 0, 3, 5, 1, 4, 0, 3, 5,\n",
              "       0, 1, 5, 3, 5, 2, 1, 4, 6, 0, 2, 1, 5, 1, 6, 4, 6, 5, 2, 5, 0, 6,\n",
              "       5, 6, 1, 2, 4, 2, 5, 1, 4, 4, 5, 1, 2, 3, 3, 4, 3, 0, 5, 3, 6, 4,\n",
              "       3, 2, 5, 0, 3, 0, 6, 5, 1, 4, 2, 3, 1, 4, 3, 4, 5, 4, 5, 6, 6, 5,\n",
              "       0, 4, 3, 2, 2, 0, 4, 0, 4, 5, 3, 4, 4, 3, 6, 5, 6, 4, 0, 2, 4, 5,\n",
              "       4, 5, 4, 0, 2, 2, 5, 4, 2, 0, 6, 3, 5, 3, 4, 6, 0, 5, 5, 1, 4, 5,\n",
              "       2, 2, 2, 1, 0, 4, 3, 4, 0, 6, 4, 5, 0, 1, 1, 3, 6, 3, 2, 5, 3, 3,\n",
              "       6, 3, 2, 1, 2, 2, 5, 2, 0, 4, 4, 0, 4, 4, 1, 3, 4, 5, 4, 4, 4, 4,\n",
              "       1, 0, 4, 3, 2, 1, 0, 4, 0, 1, 4, 3, 5, 4, 0, 0, 4, 3, 1, 5, 3, 0,\n",
              "       4, 5, 5, 3, 6, 2, 4, 3, 2, 0, 3, 5, 0, 4, 4, 2, 3, 3, 0, 5, 3, 4,\n",
              "       3, 5, 1, 0, 4, 3, 6, 0, 1, 6, 4, 6, 2, 2, 3, 1, 6, 0, 4, 0, 1, 4,\n",
              "       3, 4, 1, 6, 5, 6, 3, 1, 0, 2, 6, 5, 5, 4, 0, 0, 5, 0, 5, 0, 1, 6,\n",
              "       6, 5, 2, 4, 0, 1, 5, 4, 5, 4, 3, 6, 1, 0, 3, 2, 1, 0, 1, 2, 6, 6,\n",
              "       1, 2, 4, 2, 1, 5, 6, 2, 6, 0, 3, 0, 0, 1, 1, 6, 0, 1, 6, 2, 3, 1,\n",
              "       4, 0, 0, 2, 4, 0, 2, 5, 5, 3, 0, 0, 1, 5, 5, 0, 5, 0, 1, 0, 1, 5,\n",
              "       4, 4, 2, 2, 1, 1, 0, 0, 6, 4, 0, 2, 2, 0, 2, 0, 2, 5, 4, 6, 1, 0,\n",
              "       6, 1, 5, 3, 6, 5, 4, 6, 3, 4, 3, 0, 4, 2, 4, 3, 5, 1, 3, 4, 6, 5,\n",
              "       1, 5, 2, 5, 0, 0, 4, 5, 5, 0, 2, 3, 2, 4, 4, 1, 6, 3, 4, 6, 0, 6])"
            ]
          },
          "metadata": {},
          "execution_count": 55
        }
      ],
      "source": [
        "# Show confusion matrix and prediction report\n",
        "fn.evaluation_report(rnn,x_test,y_test)"
      ]
    },
    {
      "cell_type": "code",
      "execution_count": null,
      "metadata": {
        "id": "qlAqkeQvzBP4",
        "colab": {
          "base_uri": "https://localhost:8080/"
        },
        "outputId": "41cbaeaa-b78a-4231-d965-0822b0af28e8"
      },
      "outputs": [
        {
          "output_type": "stream",
          "name": "stderr",
          "text": [
            "/usr/local/lib/python3.10/dist-packages/keras/src/engine/training.py:3103: UserWarning: You are saving your model as an HDF5 file via `model.save()`. This file format is considered legacy. We recommend using instead the native Keras format, e.g. `model.save('my_model.keras')`.\n",
            "  saving_api.save_model(\n"
          ]
        }
      ],
      "source": [
        "rnn.save('model1.h5')"
      ]
    },
    {
      "cell_type": "markdown",
      "metadata": {
        "id": "AntP_IOwzBP7"
      },
      "source": [
        "#### Play with your model\n",
        "**Emoji**\n",
        "0 = joy 😆\n",
        "1 = fear 😱\n",
        "2 = anger 😡\n",
        "3 = sadness 😭\n",
        "4 = disgust 🤮\n",
        "5 = shame 😳\n",
        "6 = guilt 😞"
      ]
    },
    {
      "cell_type": "code",
      "execution_count": null,
      "metadata": {
        "id": "v_kWs_h1zBP8"
      },
      "outputs": [],
      "source": [
        "# Define prediction function\n",
        "def predict_emoji(input_text,model):\n",
        "\n",
        "    prepro_input = preprocess_fn([input_text])\n",
        "    prepro_input = prepro_input[0]\n",
        "    pred_class = model.predict(prepro_input).argmax(axis =1)\n",
        "\n",
        "    label_to_emoji = ['😆','😱','😡','😭','🤮','😳','😞']\n",
        "\n",
        "    result = label_to_emoji[int(pred_class)]\n",
        "\n",
        "    print('%s %s'%(input_text,result))"
      ]
    },
    {
      "cell_type": "code",
      "execution_count": null,
      "metadata": {
        "id": "7UPousbPzBQB",
        "colab": {
          "base_uri": "https://localhost:8080/"
        },
        "outputId": "f147e190-6e4d-4b0b-d152-f6e0ba540690"
      },
      "outputs": [
        {
          "output_type": "stream",
          "name": "stdout",
          "text": [
            "1/1 [==============================] - 0s 34ms/step\n",
            "I deny to hate you 😆\n"
          ]
        }
      ],
      "source": [
        "# Test your model\n",
        "input_text ='''I deny to hate you'''\n",
        "predict_emoji(input_text,rnn)"
      ]
    },
    {
      "cell_type": "markdown",
      "metadata": {
        "id": "NVI27I-Uktqj"
      },
      "source": [
        "**1.What is your testing sentence?**\n",
        "- \"I deny to hate you\""
      ]
    },
    {
      "cell_type": "markdown",
      "metadata": {
        "id": "smBs4GIcjnRf"
      },
      "source": [
        "**2.What do you think the emoji of your sentence should be?**\n",
        "- 😆\n"
      ]
    },
    {
      "cell_type": "markdown",
      "metadata": {
        "id": "Vu7tI16-kpaR"
      },
      "source": [
        "**3.What is the predictive emoji from your model?**\n",
        "- 😆\n"
      ]
    },
    {
      "cell_type": "markdown",
      "metadata": {
        "id": "wJwpNdc2kq_y"
      },
      "source": [
        "**4.Are your selected emoji and the predictive emoji the same? What do you think the network can detect?**\n",
        "- ตรง และคิดว่าที่ network สามารถตรวจจับได้คือคำว่า deny และ hate ซึ่ง deny ได้ทำการนิเสธคำว่า hate จึงแสดงผลเป็น 😆 ไม่ใช่ 😡"
      ]
    },
    {
      "cell_type": "code",
      "execution_count": null,
      "metadata": {
        "id": "winUo5-rBJwy"
      },
      "outputs": [],
      "source": []
    }
  ],
  "metadata": {
    "accelerator": "GPU",
    "colab": {
      "provenance": [],
      "include_colab_link": true
    },
    "kernelspec": {
      "display_name": "Python 3",
      "language": "python",
      "name": "python3"
    },
    "language_info": {
      "codemirror_mode": {
        "name": "ipython",
        "version": 3
      },
      "file_extension": ".py",
      "mimetype": "text/x-python",
      "name": "python",
      "nbconvert_exporter": "python",
      "pygments_lexer": "ipython3",
      "version": "3.8.5"
    }
  },
  "nbformat": 4,
  "nbformat_minor": 0
}